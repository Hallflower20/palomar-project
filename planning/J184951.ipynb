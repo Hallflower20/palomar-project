{
 "cells": [
  {
   "cell_type": "code",
   "execution_count": 1,
   "metadata": {},
   "outputs": [],
   "source": [
    "import numpy as np\n",
    "import pandas as pd\n",
    "import glob\n",
    "from astropy.table import Table\n",
    "import matplotlib.pyplot as plt\n",
    "import json \n",
    "import collections\n",
    "import astropy\n",
    "\n",
    "import astropy.units as u\n",
    "from astropy.time import Time\n",
    "from astropy.coordinates import SkyCoord, EarthLocation, AltAz\n",
    "\n",
    "from astropy.io import fits\n",
    "from astropy.io import ascii"
   ]
  },
  {
   "cell_type": "code",
   "execution_count": 2,
   "metadata": {},
   "outputs": [],
   "source": [
    "from astroplan.plots import plot_airmass\n",
    "from astroplan import Observer\n",
    "from astroplan import FixedTarget\n",
    "from astroplan import (AltitudeConstraint, AirmassConstraint,\n",
    "                       AtNightConstraint)\n",
    "from astroplan import is_observable, is_always_observable, months_observable\n",
    "observer = Observer.at_site('palomar')\n",
    "from astroplan import EclipsingSystem"
   ]
  },
  {
   "cell_type": "code",
   "execution_count": 3,
   "metadata": {},
   "outputs": [],
   "source": [
    "lightcurve = Table.from_pandas(pd.read_csv(\"light_curve_dd8451da-93c0-4273-bdb0-8000aaf97339.csv\"))\n",
    "lightcurve_ztf = Table.from_pandas(pd.read_csv(\"table_httpsirsa.ipac.caltech.educgi-bing2pnp.csv\"))"
   ]
  },
  {
   "cell_type": "code",
   "execution_count": 4,
   "metadata": {},
   "outputs": [],
   "source": [
    "filters = np.unique(lightcurve[\"Camera\"])"
   ]
  },
  {
   "cell_type": "code",
   "execution_count": 5,
   "metadata": {},
   "outputs": [
    {
     "data": {
      "text/html": [
       "<i>Row index=0</i>\n",
       "<table id=\"table2457937035856\">\n",
       "<thead><tr><th>HJD</th><th>UT Date</th><th>Camera</th><th>FWHM</th><th>Limit</th><th>mag</th><th>mag_err</th><th>flux(mJy)</th><th>flux_err</th><th>Filter</th></tr></thead>\n",
       "<thead><tr><th>float64</th><th>str18</th><th>str2</th><th>float64</th><th>float64</th><th>str7</th><th>float64</th><th>float64</th><th>float64</th><th>str1</th></tr></thead>\n",
       "<tr><td>2459761.80707</td><td>2022-07-01.3012961</td><td>bF</td><td>1.46</td><td>16.619</td><td>14.245</td><td>0.025</td><td>7.285</td><td>0.166</td><td>g</td></tr>\n",
       "</table>"
      ],
      "text/plain": [
       "<Row index=0>\n",
       "     HJD           UT Date       Camera   FWHM   Limit   mag   mag_err flux(mJy) flux_err Filter\n",
       "   float64          str18         str2  float64 float64  str7  float64  float64  float64   str1 \n",
       "------------- ------------------ ------ ------- ------- ------ ------- --------- -------- ------\n",
       "2459761.80707 2022-07-01.3012961     bF    1.46  16.619 14.245   0.025     7.285    0.166      g"
      ]
     },
     "execution_count": 5,
     "metadata": {},
     "output_type": "execute_result"
    }
   ],
   "source": [
    "lightcurve[0]"
   ]
  },
  {
   "cell_type": "code",
   "execution_count": 6,
   "metadata": {},
   "outputs": [],
   "source": [
    "lightcurve_filtered = []\n",
    "for i in filters:\n",
    "    lightcurve_filtered.append(lightcurve[np.where(lightcurve[\"Camera\"] == i)])"
   ]
  },
  {
   "cell_type": "code",
   "execution_count": 7,
   "metadata": {},
   "outputs": [
    {
     "name": "stdout",
     "output_type": "stream",
     "text": [
      "51\n",
      "75\n",
      "66\n",
      "74\n"
     ]
    }
   ],
   "source": [
    "for i in lightcurve_filtered:\n",
    "    print(len(i))"
   ]
  },
  {
   "cell_type": "code",
   "execution_count": 8,
   "metadata": {},
   "outputs": [],
   "source": [
    "from astropy.timeseries import LombScargle"
   ]
  },
  {
   "cell_type": "code",
   "execution_count": 9,
   "metadata": {},
   "outputs": [],
   "source": [
    "row = lightcurve_ztf\n",
    "hjd = np.array(row[\"mjd\"])\n",
    "hjd = hjd.astype(\"float\")\n",
    "hjd = hjd * u.day\n",
    "mag = np.array(row[\"mag\"])\n",
    "for i in range(len(mag)):\n",
    "    if(\">\" in str(mag[i])):\n",
    "        mag[i] = mag[i][1:-1]\n",
    "mag = np.asarray(mag)\n",
    "mag = mag.astype(\"float\")\n",
    "mag = mag * u.mag\n",
    "mag_err = np.array(row[\"magerr\"])\n",
    "mag_err = mag_err.astype(\"float\")\n",
    "mag_err = mag_err * u.mag"
   ]
  },
  {
   "cell_type": "code",
   "execution_count": 10,
   "metadata": {},
   "outputs": [
    {
     "data": {
      "text/plain": [
       "9.06000000313476"
      ]
     },
     "execution_count": 10,
     "metadata": {},
     "output_type": "execute_result"
    }
   ],
   "source": [
    "ztf_period = 0.110375275900\n",
    "ztf_frequency = 1/ztf_period\n",
    "ztf_frequency"
   ]
  },
  {
   "cell_type": "code",
   "execution_count": 11,
   "metadata": {},
   "outputs": [],
   "source": [
    "ideal_frequency = np.linspace(4, 7, 10**7) * (1/u.day)"
   ]
  },
  {
   "cell_type": "code",
   "execution_count": 12,
   "metadata": {},
   "outputs": [],
   "source": [
    "power = LombScargle(hjd, mag , mag_err).power(ideal_frequency)"
   ]
  },
  {
   "cell_type": "code",
   "execution_count": 13,
   "metadata": {},
   "outputs": [
    {
     "data": {
      "text/plain": [
       "[<matplotlib.lines.Line2D at 0x23c4e0b2500>]"
      ]
     },
     "execution_count": 13,
     "metadata": {},
     "output_type": "execute_result"
    },
    {
     "data": {
      "image/png": "[encoded data removed]",
      "text/plain": [
       "<Figure size 640x480 with 1 Axes>"
      ]
     },
     "metadata": {},
     "output_type": "display_data"
    }
   ],
   "source": [
    "plt.plot(ideal_frequency, power)\n",
    "#plt.vlines(ztf_frequency, 0, np.max(power), color = \"red\")"
   ]
  },
  {
   "cell_type": "code",
   "execution_count": 14,
   "metadata": {},
   "outputs": [
    {
     "data": {
      "text/latex": [
       "$0.19794614 \\; \\mathrm{d}$"
      ],
      "text/plain": [
       "<Quantity 0.19794614 d>"
      ]
     },
     "execution_count": 14,
     "metadata": {},
     "output_type": "execute_result"
    }
   ],
   "source": [
    "ztf_f = ideal_frequency[np.argmax(power)]\n",
    "ztf_p = 1/ztf_f\n",
    "ztf_p"
   ]
  },
  {
   "cell_type": "code",
   "execution_count": 15,
   "metadata": {},
   "outputs": [
    {
     "data": {
      "text/plain": [
       "Text(0, 0.5, 'R Mag')"
      ]
     },
     "execution_count": 15,
     "metadata": {},
     "output_type": "execute_result"
    },
    {
     "data": {
      "image/png": "[encoded data removed]",
      "text/plain": [
       "<Figure size 640x480 with 1 Axes>"
      ]
     },
     "metadata": {},
     "output_type": "display_data"
    }
   ],
   "source": [
    "hjd_p_fold = hjd % ztf_p / ztf_p\n",
    "hjd_p_fold = np.append(hjd_p_fold, 1 + hjd_p_fold)\n",
    "mag_p_fold = np.append(mag, mag)\n",
    "mag_err_p_fold = np.append(mag_err, mag_err)\n",
    "plt.errorbar(hjd_p_fold, mag_p_fold, mag_err_p_fold, fmt = \"o\")\n",
    "#plt.xlim(0.4,0.55)\n",
    "#plt.ylim(14.4, 14.8)\n",
    "plt.gca().invert_yaxis()\n",
    "\n",
    "plt.xlabel(\"Period\")\n",
    "plt.ylabel(\"R Mag\")"
   ]
  },
  {
   "cell_type": "code",
   "execution_count": 16,
   "metadata": {},
   "outputs": [],
   "source": [
    "folded = hjd % ztf_p / ztf_p"
   ]
  },
  {
   "cell_type": "code",
   "execution_count": 17,
   "metadata": {},
   "outputs": [],
   "source": [
    "eclipsing = lightcurve_ztf[np.where(lightcurve_ztf[\"mag\"] > 14.7)]"
   ]
  },
  {
   "cell_type": "code",
   "execution_count": 18,
   "metadata": {},
   "outputs": [
    {
     "data": {
      "text/html": [
       "<div><i>Table length=3</i>\n",
       "<table id=\"table2458357761696\" class=\"table-striped table-bordered table-condensed\">\n",
       "<thead><tr><th>oid</th><th>expid</th><th>hjd</th><th>mjd</th><th>mag</th><th>magerr</th><th>catflags</th><th>filtercode</th><th>ra</th><th>dec</th><th>chi</th><th>sharp</th><th>filefracday</th><th>field</th><th>ccdid</th><th>qid</th><th>limitmag</th><th>magzp</th><th>magzprms</th><th>clrcoeff</th><th>clrcounc</th><th>exptime</th><th>airmass</th><th>programid</th></tr></thead>\n",
       "<thead><tr><th>int64</th><th>int64</th><th>float64</th><th>float64</th><th>float64</th><th>float64</th><th>int64</th><th>str2</th><th>float64</th><th>float64</th><th>float64</th><th>float64</th><th>int64</th><th>int64</th><th>int64</th><th>int64</th><th>float64</th><th>float64</th><th>float64</th><th>float64</th><th>float64</th><th>float64</th><th>float64</th><th>int64</th></tr></thead>\n",
       "<tr><td>334215200022630</td><td>96820172</td><td>2458722.705514448</td><td>58722.2017245</td><td>14.716828</td><td>0.01974558</td><td>0</td><td>zr</td><td>282.4644578</td><td>-13.676206</td><td>1.12800002</td><td>-0.0719999969</td><td>20190827201655</td><td>334</td><td>15</td><td>2</td><td>20.4599991</td><td>26.142416</td><td>0.026071195</td><td>0.06766316</td><td>1.2111449e-05</td><td>30.0</td><td>1.579</td><td>2</td></tr>\n",
       "<tr><td>334215200022630</td><td>96820217</td><td>2458722.7059658137</td><td>58722.2021759</td><td>14.714024</td><td>0.01974614</td><td>32768</td><td>zr</td><td>282.4644591</td><td>-13.6761967</td><td>1.18400002</td><td>-0.0700000003</td><td>20190827202176</td><td>334</td><td>15</td><td>2</td><td>20.4699993</td><td>26.129602</td><td>0.025107626</td><td>0.07229456</td><td>1.11314057e-05</td><td>30.0</td><td>1.579</td><td>2</td></tr>\n",
       "<tr><td>334215200022630</td><td>96820262</td><td>2458722.706417179</td><td>58722.2026273</td><td>14.715215</td><td>0.0197459</td><td>0</td><td>zr</td><td>282.4644555</td><td>-13.6762046</td><td>1.16900003</td><td>-0.0240000002</td><td>20190827202627</td><td>334</td><td>15</td><td>2</td><td>20.4799995</td><td>26.157797</td><td>0.029082041</td><td>0.07499938</td><td>1.50683827e-05</td><td>30.0</td><td>1.58000004</td><td>2</td></tr>\n",
       "</table></div>"
      ],
      "text/plain": [
       "<Table length=3>\n",
       "      oid        expid          hjd         ... exptime  airmass   programid\n",
       "     int64       int64        float64       ... float64  float64     int64  \n",
       "--------------- -------- ------------------ ... ------- ---------- ---------\n",
       "334215200022630 96820172  2458722.705514448 ...    30.0      1.579         2\n",
       "334215200022630 96820217 2458722.7059658137 ...    30.0      1.579         2\n",
       "334215200022630 96820262  2458722.706417179 ...    30.0 1.58000004         2"
      ]
     },
     "execution_count": 18,
     "metadata": {},
     "output_type": "execute_result"
    }
   ],
   "source": [
    "eclipsing[np.where((eclipsing[\"mjd\"] < 58723) & (eclipsing[\"mjd\"] > 58721))]"
   ]
  },
  {
   "cell_type": "code",
   "execution_count": 19,
   "metadata": {},
   "outputs": [
    {
     "data": {
      "text/html": [
       "<i>Row index=406</i>\n",
       "<table id=\"table2457937485040\">\n",
       "<thead><tr><th>oid</th><th>expid</th><th>hjd</th><th>mjd</th><th>mag</th><th>magerr</th><th>catflags</th><th>filtercode</th><th>ra</th><th>dec</th><th>chi</th><th>sharp</th><th>filefracday</th><th>field</th><th>ccdid</th><th>qid</th><th>limitmag</th><th>magzp</th><th>magzprms</th><th>clrcoeff</th><th>clrcounc</th><th>exptime</th><th>airmass</th><th>programid</th></tr></thead>\n",
       "<thead><tr><th>int64</th><th>int64</th><th>float64</th><th>float64</th><th>float64</th><th>float64</th><th>int64</th><th>str2</th><th>float64</th><th>float64</th><th>float64</th><th>float64</th><th>int64</th><th>int64</th><th>int64</th><th>int64</th><th>float64</th><th>float64</th><th>float64</th><th>float64</th><th>float64</th><th>float64</th><th>float64</th><th>int64</th></tr></thead>\n",
       "<tr><td>334215200022630</td><td>96424534</td><td>2458718.749430737</td><td>58718.2453472</td><td>14.75384</td><td>0.01973894</td><td>0</td><td>zr</td><td>282.4644882</td><td>-13.6762249</td><td>0.95300001</td><td>0.0160000008</td><td>20190823245289</td><td>334</td><td>15</td><td>2</td><td>20.4899998</td><td>26.183104</td><td>0.030723449</td><td>0.06566177</td><td>1.70312105e-05</td><td>30.0</td><td>1.67499995</td><td>2</td></tr>\n",
       "</table>"
      ],
      "text/plain": [
       "<Row index=406>\n",
       "      oid        expid          hjd             mjd        mag      magerr   catflags filtercode      ra         dec        chi        sharp      filefracday   field ccdid  qid   limitmag    magzp     magzprms   clrcoeff     clrcounc    exptime  airmass   programid\n",
       "     int64       int64        float64         float64    float64   float64    int64      str2      float64     float64    float64     float64        int64      int64 int64 int64  float64    float64    float64    float64      float64     float64  float64     int64  \n",
       "--------------- -------- ----------------- ------------- -------- ---------- -------- ---------- ----------- ----------- ---------- ------------ -------------- ----- ----- ----- ---------- --------- ----------- ---------- -------------- ------- ---------- ---------\n",
       "334215200022630 96424534 2458718.749430737 58718.2453472 14.75384 0.01973894        0         zr 282.4644882 -13.6762249 0.95300001 0.0160000008 20190823245289   334    15     2 20.4899998 26.183104 0.030723449 0.06566177 1.70312105e-05    30.0 1.67499995         2"
      ]
     },
     "execution_count": 19,
     "metadata": {},
     "output_type": "execute_result"
    }
   ],
   "source": [
    "eclipsing = lightcurve_ztf[np.argmax(lightcurve_ztf[\"mag\"])]\n",
    "eclipsing"
   ]
  },
  {
   "cell_type": "code",
   "execution_count": 20,
   "metadata": {},
   "outputs": [],
   "source": [
    "primary_eclipse_time = Time(eclipsing[\"mjd\"], format='mjd')\n",
    "orbital_period = ztf_p\n",
    "eclipse_duration = 0.08 * ztf_p"
   ]
  },
  {
   "cell_type": "code",
   "execution_count": 21,
   "metadata": {},
   "outputs": [],
   "source": [
    "J184951 = EclipsingSystem(primary_eclipse_time=primary_eclipse_time,\n",
    "                           orbital_period=orbital_period, duration=eclipse_duration,\n",
    "                           name='J184951')\n",
    "np.save(\"J184951\", np.array([J184951]))"
   ]
  },
  {
   "cell_type": "code",
   "execution_count": 22,
   "metadata": {},
   "outputs": [
    {
     "data": {
      "text/plain": [
       "<Time object: scale='utc' format='iso' value=['2023-05-05 10:12:59.422' '2023-05-05 14:58:01.968'\n",
       " '2023-05-05 19:43:04.514' '2023-05-06 00:28:07.061'\n",
       " '2023-05-06 05:13:09.607' '2023-05-06 09:58:12.153'\n",
       " '2023-05-06 14:43:14.700' '2023-05-06 19:28:17.246']>"
      ]
     },
     "execution_count": 22,
     "metadata": {},
     "output_type": "execute_result"
    }
   ],
   "source": [
    "observing_time = Time('2023-05-05 8:00')\n",
    "J184951.next_primary_eclipse_time(observing_time, n_eclipses = 8)"
   ]
  },
  {
   "cell_type": "code",
   "execution_count": 23,
   "metadata": {},
   "outputs": [
    {
     "data": {
      "text/plain": [
       "<Time object: scale='utc' format='iso' value=['2023-05-05 12:35:30.695' '2023-05-05 17:20:33.241'\n",
       " '2023-05-05 22:05:35.787' '2023-05-06 02:50:38.334'\n",
       " '2023-05-06 07:35:40.880' '2023-05-06 12:20:43.427'\n",
       " '2023-05-06 17:05:45.973' '2023-05-06 21:50:48.519']>"
      ]
     },
     "execution_count": 23,
     "metadata": {},
     "output_type": "execute_result"
    }
   ],
   "source": [
    "J184951.next_secondary_eclipse_time(observing_time, n_eclipses = 8)"
   ]
  },
  {
   "cell_type": "code",
   "execution_count": null,
   "metadata": {},
   "outputs": [],
   "source": []
  }
 ],
 "metadata": {
  "kernelspec": {
   "display_name": "ay-ge_107",
   "language": "python",
   "name": "python3"
  },
  "language_info": {
   "codemirror_mode": {
    "name": "ipython",
    "version": 3
   },
   "file_extension": ".py",
   "mimetype": "text/x-python",
   "name": "python",
   "nbconvert_exporter": "python",
   "pygments_lexer": "ipython3",
   "version": "3.10.9"
  },
  "orig_nbformat": 4
 },
 "nbformat": 4,
 "nbformat_minor": 2
}
