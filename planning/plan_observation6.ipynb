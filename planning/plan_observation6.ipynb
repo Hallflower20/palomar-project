{
 "cells": [
  {
   "cell_type": "code",
   "execution_count": 2,
   "metadata": {},
   "outputs": [],
   "source": [
    "import numpy as np\n",
    "import pandas as pd\n",
    "import glob\n",
    "from astropy.table import Table\n",
    "import matplotlib.pyplot as plt\n",
    "import json \n",
    "import collections\n",
    "import astropy\n",
    "\n",
    "import astropy.units as u\n",
    "from astropy.time import Time\n",
    "from astropy.coordinates import SkyCoord, EarthLocation, AltAz\n",
    "import matplotlib.ticker as plticker\n",
    "\n",
    "from astropy.io import fits\n",
    "from astropy.io import ascii"
   ]
  },
  {
   "cell_type": "code",
   "execution_count": 3,
   "metadata": {},
   "outputs": [],
   "source": [
    "from astroplan.plots import plot_airmass\n",
    "from astroplan import Observer\n",
    "from astroplan import FixedTarget\n",
    "from astroplan import (AltitudeConstraint, AirmassConstraint,\n",
    "                       AtNightConstraint)\n",
    "from astroplan import is_observable, is_always_observable, months_observable\n",
    "observer = Observer.at_site('palomar')\n",
    "from astroplan import EclipsingSystem"
   ]
  },
  {
   "cell_type": "code",
   "execution_count": 9,
   "metadata": {},
   "outputs": [
    {
     "data": {
      "text/plain": [
       "array([60077.15347222, 60077.15358796, 60077.1537037 , ...,\n",
       "       60077.49212963, 60077.49224537, 60077.49236111], dtype=float128)"
      ]
     },
     "execution_count": 9,
     "metadata": {},
     "output_type": "execute_result"
    }
   ],
   "source": [
    "start_observing_time = Time('2023-05-13 03:41')\n",
    "end_observing_time = Time('2023-05-13 11:49')\n",
    "midnight = Time('2023-05-13 07:00')\n",
    "midnight_mjd = midnight.mjd\n",
    "(end_observing_time-start_observing_time).to_datetime()\n",
    "time_array = np.linspace(0, 29280, 2929) * u.second\n",
    "obs_period = (start_observing_time + time_array).to_value('mjd', 'long')\n",
    "obs_period"
   ]
  },
  {
   "cell_type": "code",
   "execution_count": 10,
   "metadata": {},
   "outputs": [],
   "source": [
    "J184951 = np.load(\"J184951.npy\", allow_pickle=True)[0]\n",
    "J183118 = np.load(\"J183118.npy\", allow_pickle=True)[0]\n",
    "J204638 = np.load(\"J204638.npy\", allow_pickle=True)[0]\n",
    "J163045 = np.load(\"J163045.npy\", allow_pickle=True)[0]\n",
    "J210017 = np.load(\"J210017.npy\", allow_pickle=True)[0]\n",
    "targets = [J184951, J183118, J204638]"
   ]
  },
  {
   "cell_type": "code",
   "execution_count": 11,
   "metadata": {},
   "outputs": [],
   "source": [
    "def observable(object, time): # 0 for no, 2 for primary, 1 for secondary\n",
    "    time_utc = Time(time, format=\"mjd\")\n",
    "    primary = object.next_primary_eclipse_time(time_utc, n_eclipses = 100)\n",
    "    secondary = object.next_secondary_eclipse_time(time_utc, n_eclipses = 100)\n",
    "    for i in primary:\n",
    "        start_mjd = i.to_value('mjd', 'long')\n",
    "        end_mjd = (i + object.duration).to_value('mjd', 'long')\n",
    "        if (start_mjd < time and time < end_mjd):\n",
    "            return 2\n",
    "    for i in secondary:\n",
    "        start_mjd = i.to_value('mjd', 'long')\n",
    "        end_mjd = (i + object.duration).to_value('mjd', 'long')\n",
    "        if (start_mjd < time and time < end_mjd):\n",
    "            return 1"
   ]
  },
  {
   "cell_type": "code",
   "execution_count": 12,
   "metadata": {},
   "outputs": [
    {
     "data": {
      "text/plain": [
       "array([60077.15347222, 60077.15358796, 60077.1537037 , ...,\n",
       "       60077.49212963, 60077.49224537, 60077.49236111], dtype=float128)"
      ]
     },
     "execution_count": 12,
     "metadata": {},
     "output_type": "execute_result"
    }
   ],
   "source": [
    "obs_period"
   ]
  },
  {
   "cell_type": "code",
   "execution_count": 19,
   "metadata": {},
   "outputs": [
    {
     "name": "stdout",
     "output_type": "stream",
     "text": [
      "0.015835691070023295 d\n",
      "0.015835691070023295 d\n",
      "0.028303767659799695 d\n",
      "0.005378566043276792 d\n",
      "0.005378566043276792 d\n"
     ]
    },
    {
     "data": {
      "text/plain": [
       "Text(0.5, 0, 'Hours Since Midnight')"
      ]
     },
     "execution_count": 19,
     "metadata": {},
     "output_type": "execute_result"
    },
    {
     "data": {
      "image/png": "[encoded data removed]",
      "text/plain": [
       "<Figure size 2000x500 with 1 Axes>"
      ]
     },
     "metadata": {},
     "output_type": "display_data"
    }
   ],
   "source": [
    "fig, ax = plt.subplots(figsize=(20,5))\n",
    "for j in range(len(targets)):\n",
    "    t = targets[j]\n",
    "    primary_s = t.next_primary_eclipse_time(start_observing_time, n_eclipses = 100)\n",
    "    primary_s = primary_s[primary_s < end_observing_time]\n",
    "    times = []\n",
    "    for i in primary_s:\n",
    "        times.extend([i, i + t.duration])\n",
    "    if(len(times) > 0):\n",
    "        times = Time(times)\n",
    "        print(t.duration)\n",
    "        ax.scatter((times.mjd - midnight_mjd)*24, j * np.ones(2 * len(primary_s)))\n",
    "\n",
    "    secondary_s = t.next_secondary_eclipse_time(start_observing_time, n_eclipses = 100)\n",
    "    secondary_s = secondary_s[secondary_s < end_observing_time]\n",
    "    times = []\n",
    "    for i in secondary_s:\n",
    "        times.extend([i, i + t.duration])\n",
    "    if(len(times) > 0):\n",
    "        times = Time(times)\n",
    "        print(t.duration)\n",
    "        ax.scatter((times.mjd - midnight_mjd)*24, j * np.ones(2 * len(secondary_s)))\n",
    "ax.vlines((start_observing_time.mjd - midnight_mjd)*24, 0, 2)\n",
    "ax.vlines((end_observing_time.mjd - midnight_mjd)*24, 0, 2)\n",
    "ax.xaxis.set_major_locator(plticker.MultipleLocator(base = 0.5))\n",
    "ax.yaxis.set_major_locator(plticker.MultipleLocator(base = 1))\n",
    "ax.xaxis.set_minor_locator(plticker.MultipleLocator(base = 0.25))\n",
    "#plt.xlim(1, 5)\n",
    "plt.xlabel(\"Hours Since Midnight\")"
   ]
  },
  {
   "cell_type": "code",
   "execution_count": 17,
   "metadata": {},
   "outputs": [
    {
     "data": {
      "text/plain": [
       "<Time object: scale='utc' format='iso' value=[]>"
      ]
     },
     "execution_count": 17,
     "metadata": {},
     "output_type": "execute_result"
    }
   ],
   "source": [
    "secondary_s"
   ]
  },
  {
   "cell_type": "code",
   "execution_count": null,
   "metadata": {},
   "outputs": [],
   "source": []
  }
 ],
 "metadata": {
  "kernelspec": {
   "display_name": "ay-ge_107",
   "language": "python",
   "name": "python3"
  },
  "language_info": {
   "codemirror_mode": {
    "name": "ipython",
    "version": 3
   },
   "file_extension": ".py",
   "mimetype": "text/x-python",
   "name": "python",
   "nbconvert_exporter": "python",
   "pygments_lexer": "ipython3",
   "version": "3.10.9"
  },
  "orig_nbformat": 4
 },
 "nbformat": 4,
 "nbformat_minor": 2
}
