{
 "cells": [
  {
   "cell_type": "code",
   "execution_count": 2,
   "metadata": {},
   "outputs": [],
   "source": [
    "import numpy as np\n",
    "import pandas as pd\n",
    "import glob\n",
    "from astropy.table import Table\n",
    "import matplotlib.pyplot as plt\n",
    "import json \n",
    "import collections\n",
    "import astropy\n",
    "\n",
    "import astropy.units as u\n",
    "from astropy.time import Time\n",
    "from astropy.coordinates import SkyCoord, EarthLocation, AltAz\n",
    "import matplotlib.ticker as plticker\n",
    "\n",
    "from astropy.io import fits\n",
    "from astropy.io import ascii"
   ]
  },
  {
   "cell_type": "code",
   "execution_count": 3,
   "metadata": {},
   "outputs": [],
   "source": [
    "from astroplan.plots import plot_airmass\n",
    "from astroplan import Observer\n",
    "from astroplan import FixedTarget\n",
    "from astroplan import (AltitudeConstraint, AirmassConstraint,\n",
    "                       AtNightConstraint)\n",
    "from astroplan import is_observable, is_always_observable, months_observable\n",
    "observer = Observer.at_site('palomar')\n",
    "from astroplan import EclipsingSystem"
   ]
  },
  {
   "cell_type": "code",
   "execution_count": 4,
   "metadata": {},
   "outputs": [
    {
     "data": {
      "text/plain": [
       "array([60071.15347222, 60071.15358796, 60071.1537037 , ...,\n",
       "       60071.49212963, 60071.49224537, 60071.49236111], dtype=float128)"
      ]
     },
     "execution_count": 4,
     "metadata": {},
     "output_type": "execute_result"
    }
   ],
   "source": [
    "start_observing_time = Time('2023-05-07 03:41')\n",
    "end_observing_time = Time('2023-05-07 11:49')\n",
    "midnight = Time('2023-05-07 07:00')\n",
    "midnight_mjd = midnight.mjd\n",
    "(end_observing_time-start_observing_time).to_datetime()\n",
    "time_array = np.linspace(0, 29280, 2929) * u.second\n",
    "obs_period = (start_observing_time + time_array).to_value('mjd', 'long')\n",
    "obs_period"
   ]
  },
  {
   "cell_type": "code",
   "execution_count": 5,
   "metadata": {},
   "outputs": [],
   "source": [
    "J184951 = np.load(\"J184951.npy\", allow_pickle=True)[0]\n",
    "J183118 = np.load(\"J183118.npy\", allow_pickle=True)[0]\n",
    "J204638 = np.load(\"J204638.npy\", allow_pickle=True)[0]\n",
    "J163045 = np.load(\"J163045.npy\", allow_pickle=True)[0]\n",
    "J210017 = np.load(\"J210017.npy\", allow_pickle=True)[0]\n",
    "targets = [J184951, J183118, J204638, J163045]"
   ]
  },
  {
   "cell_type": "code",
   "execution_count": 6,
   "metadata": {},
   "outputs": [],
   "source": [
    "def observable(object, time): # 0 for no, 2 for primary, 1 for secondary\n",
    "    time_utc = Time(time, format=\"mjd\")\n",
    "    primary = object.next_primary_eclipse_time(time_utc, n_eclipses = 100)\n",
    "    secondary = object.next_secondary_eclipse_time(time_utc, n_eclipses = 100)\n",
    "    for i in primary:\n",
    "        start_mjd = i.to_value('mjd', 'long')\n",
    "        end_mjd = (i + object.duration).to_value('mjd', 'long')\n",
    "        if (start_mjd < time and time < end_mjd):\n",
    "            return 2\n",
    "    for i in secondary:\n",
    "        start_mjd = i.to_value('mjd', 'long')\n",
    "        end_mjd = (i + object.duration).to_value('mjd', 'long')\n",
    "        if (start_mjd < time and time < end_mjd):\n",
    "            return 1"
   ]
  },
  {
   "cell_type": "code",
   "execution_count": 7,
   "metadata": {},
   "outputs": [
    {
     "data": {
      "text/plain": [
       "array([60071.15347222, 60071.15358796, 60071.1537037 , ...,\n",
       "       60071.49212963, 60071.49224537, 60071.49236111], dtype=float128)"
      ]
     },
     "execution_count": 7,
     "metadata": {},
     "output_type": "execute_result"
    }
   ],
   "source": [
    "obs_period"
   ]
  },
  {
   "cell_type": "code",
   "execution_count": 8,
   "metadata": {},
   "outputs": [
    {
     "name": "stdout",
     "output_type": "stream",
     "text": [
      "22.803395140833544 min\n",
      "['2023-05-07 04:46:58.237' '2023-05-07 05:09:46.441'\n",
      " '2023-05-07 09:32:00.783' '2023-05-07 09:54:48.987']\n",
      "['2023-05-07 07:09:29.510' '2023-05-07 07:32:17.714']\n",
      "40.75742543011156 min\n",
      "['2023-05-07 03:40:27.900' '2023-05-07 04:21:13.345']\n",
      "['2023-05-07 09:20:06.612' '2023-05-07 10:00:52.058']\n",
      "7.745135102318581 min\n",
      "['2023-05-07 05:05:20.820' '2023-05-07 05:13:05.528'\n",
      " '2023-05-07 07:14:25.955' '2023-05-07 07:22:10.664'\n",
      " '2023-05-07 09:23:31.091' '2023-05-07 09:31:15.799'\n",
      " '2023-05-07 11:32:36.226' '2023-05-07 11:40:20.934']\n",
      "['2023-05-07 04:00:48.253' '2023-05-07 04:08:32.961'\n",
      " '2023-05-07 06:09:53.388' '2023-05-07 06:17:38.096'\n",
      " '2023-05-07 08:18:58.523' '2023-05-07 08:26:43.231'\n",
      " '2023-05-07 10:28:03.658' '2023-05-07 10:35:48.366']\n",
      "26.72353473537179 min\n",
      "['2023-05-07 07:46:59.799' '2023-05-07 08:13:43.212']\n",
      "['2023-05-07 04:04:18.032' '2023-05-07 04:31:01.444'\n",
      " '2023-05-07 11:29:41.567' '2023-05-07 11:56:24.979']\n"
     ]
    },
    {
     "data": {
      "image/png": "[encoded data removed]",
      "text/plain": [
       "<Figure size 2000x500 with 1 Axes>"
      ]
     },
     "metadata": {},
     "output_type": "display_data"
    }
   ],
   "source": [
    "fig, ax = plt.subplots(figsize=(20,5))\n",
    "for j in range(len(targets)):\n",
    "    t = targets[j]\n",
    "    primary_s = t.next_primary_eclipse_time(start_observing_time, n_eclipses = 100)\n",
    "    primary_s = primary_s[primary_s < end_observing_time] - (t.duration)/2\n",
    "    times = []\n",
    "    for i in primary_s:\n",
    "        times.extend([i, i + t.duration])\n",
    "    times = Time(times)\n",
    "    print(t.duration.to(u.min))\n",
    "    print(times)\n",
    "    ax.scatter((times.mjd - midnight_mjd)*24, j * np.ones(2 * len(primary_s)))\n",
    "\n",
    "    secondary_s = t.next_secondary_eclipse_time(start_observing_time, n_eclipses = 100)\n",
    "    secondary_s = secondary_s[secondary_s < end_observing_time] - (t.duration)/2\n",
    "    times = []\n",
    "    for i in secondary_s:\n",
    "        times.extend([i, i + t.duration])\n",
    "    times = Time(times)\n",
    "    print(times)\n",
    "    ax.scatter((times.mjd - midnight_mjd)*24, j * np.ones(2 * len(secondary_s)))\n",
    "ax.vlines((start_observing_time.mjd - midnight_mjd)*24, 0, 3)\n",
    "ax.vlines((end_observing_time.mjd - midnight_mjd)*24, 0, 3)\n",
    "ax.xaxis.set_major_locator(plticker.MultipleLocator(base = 0.5))\n",
    "ax.yaxis.set_major_locator(plticker.MultipleLocator(base = 1))\n",
    "ax.xaxis.set_minor_locator(plticker.MultipleLocator(base = 0.25))"
   ]
  },
  {
   "cell_type": "code",
   "execution_count": 9,
   "metadata": {},
   "outputs": [
    {
     "data": {
      "text/plain": [
       "<Time object: scale='utc' format='iso' value=['2023-05-07 07:46:59.799']>"
      ]
     },
     "execution_count": 9,
     "metadata": {},
     "output_type": "execute_result"
    }
   ],
   "source": [
    "primary_s"
   ]
  },
  {
   "cell_type": "code",
   "execution_count": 10,
   "metadata": {},
   "outputs": [
    {
     "data": {
      "text/plain": [
       "<Time object: scale='utc' format='iso' value=['2023-05-07 04:04:18.032' '2023-05-07 11:29:41.567']>"
      ]
     },
     "execution_count": 10,
     "metadata": {},
     "output_type": "execute_result"
    }
   ],
   "source": [
    "secondary_s"
   ]
  },
  {
   "cell_type": "code",
   "execution_count": null,
   "metadata": {},
   "outputs": [],
   "source": []
  }
 ],
 "metadata": {
  "kernelspec": {
   "display_name": "ay-ge_107",
   "language": "python",
   "name": "python3"
  },
  "language_info": {
   "codemirror_mode": {
    "name": "ipython",
    "version": 3
   },
   "file_extension": ".py",
   "mimetype": "text/x-python",
   "name": "python",
   "nbconvert_exporter": "python",
   "pygments_lexer": "ipython3",
   "version": "3.10.9"
  },
  "orig_nbformat": 4
 },
 "nbformat": 4,
 "nbformat_minor": 2
}
