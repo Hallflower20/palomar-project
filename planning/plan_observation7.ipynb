{
 "cells": [
  {
   "cell_type": "code",
   "execution_count": 2,
   "metadata": {},
   "outputs": [],
   "source": [
    "import numpy as np\n",
    "import pandas as pd\n",
    "import glob\n",
    "from astropy.table import Table\n",
    "import matplotlib.pyplot as plt\n",
    "import json \n",
    "import collections\n",
    "import astropy\n",
    "\n",
    "import astropy.units as u\n",
    "from astropy.time import Time\n",
    "from astropy.coordinates import SkyCoord, EarthLocation, AltAz\n",
    "\n",
    "from astropy.io import fits\n",
    "from astropy.io import ascii"
   ]
  },
  {
   "cell_type": "code",
   "execution_count": 3,
   "metadata": {},
   "outputs": [],
   "source": [
    "from astroplan.plots import plot_airmass\n",
    "from astroplan import Observer\n",
    "from astroplan import FixedTarget\n",
    "from astroplan import (AltitudeConstraint, AirmassConstraint,\n",
    "                       AtNightConstraint)\n",
    "from astroplan import is_observable, is_always_observable, months_observable\n",
    "observer = Observer.at_site('palomar')\n",
    "from astroplan import EclipsingSystem"
   ]
  },
  {
   "cell_type": "code",
   "execution_count": 4,
   "metadata": {},
   "outputs": [
    {
     "data": {
      "text/plain": [
       "array([60071.15347222, 60071.15358796, 60071.1537037 , ...,\n",
       "       60071.49212963, 60071.49224537, 60071.49236111], dtype=float64)"
      ]
     },
     "execution_count": 4,
     "metadata": {},
     "output_type": "execute_result"
    }
   ],
   "source": [
    "start_observing_time = Time('2023-05-07 03:41')\n",
    "end_observing_time = Time('2023-05-07 11:49')\n",
    "midnight = Time('2023-05-07 07:00')\n",
    "midnight_mjd = midnight.mjd\n",
    "(end_observing_time-start_observing_time).to_datetime()\n",
    "time_array = np.linspace(0, 29280, 2929) * u.second\n",
    "obs_period = (start_observing_time + time_array).to_value('mjd', 'long')\n",
    "obs_period"
   ]
  },
  {
   "cell_type": "code",
   "execution_count": 5,
   "metadata": {},
   "outputs": [],
   "source": [
    "J184951 = np.load(\"J184951.npy\", allow_pickle=True)[0]\n",
    "J183118 = np.load(\"J183118.npy\", allow_pickle=True)[0]\n",
    "J204638 = np.load(\"J204638.npy\", allow_pickle=True)[0]\n",
    "J163045 = np.load(\"J163045.npy\", allow_pickle=True)[0]\n",
    "J210017 = np.load(\"J210017.npy\", allow_pickle=True)[0]\n",
    "targets = [J184951, J183118, J204638]"
   ]
  },
  {
   "cell_type": "code",
   "execution_count": 6,
   "metadata": {},
   "outputs": [],
   "source": [
    "def observable(object, time): # 0 for no, 2 for primary, 1 for secondary\n",
    "    time_utc = Time(time, format=\"mjd\")\n",
    "    primary = object.next_primary_eclipse_time(time_utc, n_eclipses = 100)\n",
    "    secondary = object.next_secondary_eclipse_time(time_utc, n_eclipses = 100)\n",
    "    for i in primary:\n",
    "        start_mjd = i.to_value('mjd', 'long')\n",
    "        end_mjd = (i + object.duration).to_value('mjd', 'long')\n",
    "        if (start_mjd < time and time < end_mjd):\n",
    "            return 2\n",
    "    for i in secondary:\n",
    "        start_mjd = i.to_value('mjd', 'long')\n",
    "        end_mjd = (i + object.duration).to_value('mjd', 'long')\n",
    "        if (start_mjd < time and time < end_mjd):\n",
    "            return 1"
   ]
  },
  {
   "cell_type": "code",
   "execution_count": 7,
   "metadata": {},
   "outputs": [
    {
     "data": {
      "text/plain": [
       "array([60071.15347222, 60071.15358796, 60071.1537037 , ...,\n",
       "       60071.49212963, 60071.49224537, 60071.49236111], dtype=float64)"
      ]
     },
     "execution_count": 7,
     "metadata": {},
     "output_type": "execute_result"
    }
   ],
   "source": [
    "obs_period"
   ]
  },
  {
   "cell_type": "code",
   "execution_count": 13,
   "metadata": {},
   "outputs": [
    {
     "name": "stdout",
     "output_type": "stream",
     "text": [
      "0.015835691070023295 d\n",
      "0.015835691070023295 d\n",
      "0.028303767659799695 d\n",
      "0.028303767659799695 d\n",
      "0.005378566043276792 d\n",
      "0.005378566043276792 d\n"
     ]
    },
    {
     "ename": "NameError",
     "evalue": "name 'plticker' is not defined",
     "output_type": "error",
     "traceback": [
      "\u001b[1;31m---------------------------------------------------------------------------\u001b[0m",
      "\u001b[1;31mNameError\u001b[0m                                 Traceback (most recent call last)",
      "Cell \u001b[1;32mIn[13], line 23\u001b[0m\n\u001b[0;32m     21\u001b[0m ax\u001b[39m.\u001b[39mvlines((start_observing_time\u001b[39m.\u001b[39mmjd \u001b[39m-\u001b[39m midnight_mjd)\u001b[39m*\u001b[39m\u001b[39m24\u001b[39m, \u001b[39m0\u001b[39m, \u001b[39m2\u001b[39m)\n\u001b[0;32m     22\u001b[0m ax\u001b[39m.\u001b[39mvlines((end_observing_time\u001b[39m.\u001b[39mmjd \u001b[39m-\u001b[39m midnight_mjd)\u001b[39m*\u001b[39m\u001b[39m24\u001b[39m, \u001b[39m0\u001b[39m, \u001b[39m2\u001b[39m)\n\u001b[1;32m---> 23\u001b[0m ax\u001b[39m.\u001b[39mxaxis\u001b[39m.\u001b[39mset_major_locator(plticker\u001b[39m.\u001b[39mMultipleLocator(base \u001b[39m=\u001b[39m \u001b[39m0.5\u001b[39m))\n\u001b[0;32m     24\u001b[0m ax\u001b[39m.\u001b[39myaxis\u001b[39m.\u001b[39mset_major_locator(plticker\u001b[39m.\u001b[39mMultipleLocator(base \u001b[39m=\u001b[39m \u001b[39m1\u001b[39m))\n\u001b[0;32m     25\u001b[0m ax\u001b[39m.\u001b[39mxaxis\u001b[39m.\u001b[39mset_minor_locator(plticker\u001b[39m.\u001b[39mMultipleLocator(base \u001b[39m=\u001b[39m \u001b[39m0.25\u001b[39m))\n",
      "\u001b[1;31mNameError\u001b[0m: name 'plticker' is not defined"
     ]
    },
    {
     "data": {
      "image/png": "[encoded data removed]",
      "text/plain": [
       "<Figure size 2000x500 with 1 Axes>"
      ]
     },
     "metadata": {},
     "output_type": "display_data"
    }
   ],
   "source": [
    "fig, ax = plt.subplots(figsize=(20,5))\n",
    "for j in range(len(targets)):\n",
    "    t = targets[j]\n",
    "    primary_s = t.next_primary_eclipse_time(start_observing_time, n_eclipses = 100)\n",
    "    primary_s = primary_s[primary_s < end_observing_time]\n",
    "    times = []\n",
    "    for i in primary_s:\n",
    "        times.extend([i, i + t.duration])\n",
    "    times = Time(times)\n",
    "    print(t.duration)\n",
    "    ax.scatter((times.mjd - midnight_mjd)*24, j * np.ones(2 * len(primary_s)))\n",
    "\n",
    "    secondary_s = t.next_secondary_eclipse_time(start_observing_time, n_eclipses = 100)\n",
    "    secondary_s = secondary_s[secondary_s < end_observing_time]\n",
    "    times = []\n",
    "    for i in secondary_s:\n",
    "        times.extend([i, i + t.duration])\n",
    "    times = Time(times)\n",
    "    print(t.duration)\n",
    "    ax.scatter((times.mjd - midnight_mjd)*24, j * np.ones(2 * len(secondary_s)))\n",
    "ax.vlines((start_observing_time.mjd - midnight_mjd)*24, 0, 2)\n",
    "ax.vlines((end_observing_time.mjd - midnight_mjd)*24, 0, 2)\n",
    "ax.xaxis.set_major_locator(plticker.MultipleLocator(base = 0.5))\n",
    "ax.yaxis.set_major_locator(plticker.MultipleLocator(base = 1))\n",
    "ax.xaxis.set_minor_locator(plticker.MultipleLocator(base = 0.25))"
   ]
  },
  {
   "cell_type": "code",
   "execution_count": 9,
   "metadata": {},
   "outputs": [
    {
     "data": {
      "text/plain": [
       "<Time object: scale='utc' format='iso' value=['2023-05-07 05:09:13.174' '2023-05-07 05:16:57.883'\n",
       " '2023-05-07 07:18:18.310' '2023-05-07 07:26:03.018'\n",
       " '2023-05-07 09:27:23.445' '2023-05-07 09:35:08.153'\n",
       " '2023-05-07 11:36:28.580' '2023-05-07 11:44:13.288']>"
      ]
     },
     "execution_count": 9,
     "metadata": {},
     "output_type": "execute_result"
    }
   ],
   "source": [
    "times"
   ]
  },
  {
   "cell_type": "code",
   "execution_count": null,
   "metadata": {},
   "outputs": [],
   "source": []
  }
 ],
 "metadata": {
  "kernelspec": {
   "display_name": "ay-ge_107",
   "language": "python",
   "name": "python3"
  },
  "language_info": {
   "codemirror_mode": {
    "name": "ipython",
    "version": 3
   },
   "file_extension": ".py",
   "mimetype": "text/x-python",
   "name": "python",
   "nbconvert_exporter": "python",
   "pygments_lexer": "ipython3",
   "version": "3.10.9"
  },
  "orig_nbformat": 4
 },
 "nbformat": 4,
 "nbformat_minor": 2
}
