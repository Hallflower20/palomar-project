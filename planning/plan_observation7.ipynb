{
 "cells": [
  {
   "cell_type": "code",
   "execution_count": 2,
   "metadata": {},
   "outputs": [],
   "source": [
    "import numpy as np\n",
    "import pandas as pd\n",
    "import glob\n",
    "from astropy.table import Table\n",
    "import matplotlib.pyplot as plt\n",
    "import json \n",
    "import collections\n",
    "import astropy\n",
    "\n",
    "import astropy.units as u\n",
    "from astropy.time import Time\n",
    "from astropy.coordinates import SkyCoord, EarthLocation, AltAz\n",
    "import matplotlib.ticker as plticker\n",
    "\n",
    "from astropy.io import fits\n",
    "from astropy.io import ascii"
   ]
  },
  {
   "cell_type": "code",
   "execution_count": 3,
   "metadata": {},
   "outputs": [],
   "source": [
    "from astroplan.plots import plot_airmass\n",
    "from astroplan import Observer\n",
    "from astroplan import FixedTarget\n",
    "from astroplan import (AltitudeConstraint, AirmassConstraint,\n",
    "                       AtNightConstraint)\n",
    "from astroplan import is_observable, is_always_observable, months_observable\n",
    "observer = Observer.at_site('palomar')\n",
    "from astroplan import EclipsingSystem"
   ]
  },
  {
   "cell_type": "code",
   "execution_count": 4,
   "metadata": {},
   "outputs": [
    {
     "data": {
      "text/plain": [
       "array([60071.15347222, 60071.15358796, 60071.1537037 , ...,\n",
       "       60071.49212963, 60071.49224537, 60071.49236111], dtype=float128)"
      ]
     },
     "execution_count": 4,
     "metadata": {},
     "output_type": "execute_result"
    }
   ],
   "source": [
    "start_observing_time = Time('2023-05-07 03:41')\n",
    "end_observing_time = Time('2023-05-07 11:49')\n",
    "midnight = Time('2023-05-07 07:00')\n",
    "midnight_mjd = midnight.mjd\n",
    "(end_observing_time-start_observing_time).to_datetime()\n",
    "time_array = np.linspace(0, 29280, 2929) * u.second\n",
    "obs_period = (start_observing_time + time_array).to_value('mjd', 'long')\n",
    "obs_period"
   ]
  },
  {
   "cell_type": "code",
   "execution_count": 12,
   "metadata": {},
   "outputs": [],
   "source": [
    "J184951 = np.load(\"J184951.npy\", allow_pickle=True)[0]\n",
    "J183118 = np.load(\"J183118.npy\", allow_pickle=True)[0]\n",
    "J204638 = np.load(\"J204638.npy\", allow_pickle=True)[0]\n",
    "J163045 = np.load(\"J163045.npy\", allow_pickle=True)[0]\n",
    "J210017 = np.load(\"J210017.npy\", allow_pickle=True)[0]\n",
    "targets = [J184951, J183118, J204638, J163045]"
   ]
  },
  {
   "cell_type": "code",
   "execution_count": 13,
   "metadata": {},
   "outputs": [],
   "source": [
    "def observable(object, time): # 0 for no, 2 for primary, 1 for secondary\n",
    "    time_utc = Time(time, format=\"mjd\")\n",
    "    primary = object.next_primary_eclipse_time(time_utc, n_eclipses = 100)\n",
    "    secondary = object.next_secondary_eclipse_time(time_utc, n_eclipses = 100)\n",
    "    for i in primary:\n",
    "        start_mjd = i.to_value('mjd', 'long')\n",
    "        end_mjd = (i + object.duration).to_value('mjd', 'long')\n",
    "        if (start_mjd < time and time < end_mjd):\n",
    "            return 2\n",
    "    for i in secondary:\n",
    "        start_mjd = i.to_value('mjd', 'long')\n",
    "        end_mjd = (i + object.duration).to_value('mjd', 'long')\n",
    "        if (start_mjd < time and time < end_mjd):\n",
    "            return 1"
   ]
  },
  {
   "cell_type": "code",
   "execution_count": 14,
   "metadata": {},
   "outputs": [
    {
     "data": {
      "text/plain": [
       "array([60071.15347222, 60071.15358796, 60071.1537037 , ...,\n",
       "       60071.49212963, 60071.49224537, 60071.49236111], dtype=float128)"
      ]
     },
     "execution_count": 14,
     "metadata": {},
     "output_type": "execute_result"
    }
   ],
   "source": [
    "obs_period"
   ]
  },
  {
   "cell_type": "code",
   "execution_count": 19,
   "metadata": {},
   "outputs": [
    {
     "name": "stdout",
     "output_type": "stream",
     "text": [
      "22.803395140833544 min\n",
      "['2023-05-07 04:58:22.339' '2023-05-07 05:21:10.542'\n",
      " '2023-05-07 09:43:24.885' '2023-05-07 10:06:13.089']\n",
      "['2023-05-07 07:20:53.612' '2023-05-07 07:43:41.816']\n",
      "40.75742543011156 min\n",
      "['2023-05-07 04:00:50.623' '2023-05-07 04:41:36.068']\n",
      "['2023-05-07 09:40:29.335' '2023-05-07 10:21:14.781']\n",
      "7.745135102318581 min\n",
      "['2023-05-07 05:09:13.174' '2023-05-07 05:16:57.883'\n",
      " '2023-05-07 07:18:18.310' '2023-05-07 07:26:03.018'\n",
      " '2023-05-07 09:27:23.445' '2023-05-07 09:35:08.153'\n",
      " '2023-05-07 11:36:28.580' '2023-05-07 11:44:13.288']\n",
      "['2023-05-07 04:04:40.607' '2023-05-07 04:12:25.315'\n",
      " '2023-05-07 06:13:45.742' '2023-05-07 06:21:30.450'\n",
      " '2023-05-07 08:22:50.877' '2023-05-07 08:30:35.585'\n",
      " '2023-05-07 10:31:56.012' '2023-05-07 10:39:40.720']\n",
      "26.72353473537179 min\n",
      "['2023-05-07 08:00:21.505' '2023-05-07 08:27:04.918']\n",
      "['2023-05-07 04:17:39.738' '2023-05-07 04:44:23.150'\n",
      " '2023-05-07 11:43:03.273' '2023-05-07 12:09:46.685']\n"
     ]
    },
    {
     "data": {
      "image/png": "[encoded data removed]",
      "text/plain": [
       "<Figure size 2000x500 with 1 Axes>"
      ]
     },
     "metadata": {},
     "output_type": "display_data"
    }
   ],
   "source": [
    "fig, ax = plt.subplots(figsize=(20,5))\n",
    "for j in range(len(targets)):\n",
    "    t = targets[j]\n",
    "    primary_s = t.next_primary_eclipse_time(start_observing_time, n_eclipses = 100)\n",
    "    primary_s = primary_s[primary_s < end_observing_time]\n",
    "    times = []\n",
    "    for i in primary_s:\n",
    "        times.extend([i, i + t.duration])\n",
    "    times = Time(times)\n",
    "    print(t.duration.to(u.min))\n",
    "    print(times)\n",
    "    ax.scatter((times.mjd - midnight_mjd)*24, j * np.ones(2 * len(primary_s)))\n",
    "\n",
    "    secondary_s = t.next_secondary_eclipse_time(start_observing_time, n_eclipses = 100)\n",
    "    secondary_s = secondary_s[secondary_s < end_observing_time]\n",
    "    times = []\n",
    "    for i in secondary_s:\n",
    "        times.extend([i, i + t.duration])\n",
    "    times = Time(times)\n",
    "    print(times)\n",
    "    ax.scatter((times.mjd - midnight_mjd)*24, j * np.ones(2 * len(secondary_s)))\n",
    "ax.vlines((start_observing_time.mjd - midnight_mjd)*24, 0, 3)\n",
    "ax.vlines((end_observing_time.mjd - midnight_mjd)*24, 0, 3)\n",
    "ax.xaxis.set_major_locator(plticker.MultipleLocator(base = 0.5))\n",
    "ax.yaxis.set_major_locator(plticker.MultipleLocator(base = 1))\n",
    "ax.xaxis.set_minor_locator(plticker.MultipleLocator(base = 0.25))"
   ]
  },
  {
   "cell_type": "code",
   "execution_count": 17,
   "metadata": {},
   "outputs": [
    {
     "data": {
      "text/plain": [
       "<Time object: scale='utc' format='iso' value=['2023-05-07 08:00:21.505']>"
      ]
     },
     "execution_count": 17,
     "metadata": {},
     "output_type": "execute_result"
    }
   ],
   "source": [
    "primary_s"
   ]
  },
  {
   "cell_type": "code",
   "execution_count": 18,
   "metadata": {},
   "outputs": [
    {
     "data": {
      "text/plain": [
       "<Time object: scale='utc' format='iso' value=['2023-05-07 04:17:39.738' '2023-05-07 11:43:03.273']>"
      ]
     },
     "execution_count": 18,
     "metadata": {},
     "output_type": "execute_result"
    }
   ],
   "source": [
    "secondary_s"
   ]
  },
  {
   "cell_type": "code",
   "execution_count": null,
   "metadata": {},
   "outputs": [],
   "source": []
  }
 ],
 "metadata": {
  "kernelspec": {
   "display_name": "ay-ge_107",
   "language": "python",
   "name": "python3"
  },
  "language_info": {
   "codemirror_mode": {
    "name": "ipython",
    "version": 3
   },
   "file_extension": ".py",
   "mimetype": "text/x-python",
   "name": "python",
   "nbconvert_exporter": "python",
   "pygments_lexer": "ipython3",
   "version": "3.10.9"
  },
  "orig_nbformat": 4
 },
 "nbformat": 4,
 "nbformat_minor": 2
}
