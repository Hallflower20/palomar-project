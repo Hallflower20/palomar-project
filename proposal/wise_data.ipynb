{
 "cells": [
  {
   "cell_type": "code",
   "execution_count": 1,
   "metadata": {},
   "outputs": [],
   "source": [
    "import numpy as np\n",
    "import pandas as pd\n",
    "import glob\n",
    "from astropy.table import Table\n",
    "import matplotlib.pyplot as plt\n",
    "import json \n",
    "import collections\n",
    "import astropy\n",
    "\n",
    "import astropy.units as u\n",
    "from astropy.time import Time\n",
    "from astropy.coordinates import SkyCoord, EarthLocation, AltAz\n",
    "\n",
    "from astropy.io import fits\n",
    "from astropy.io import ascii"
   ]
  },
  {
   "cell_type": "code",
   "execution_count": 33,
   "metadata": {},
   "outputs": [],
   "source": [
    "from astroplan.plots import plot_airmass\n",
    "from astroplan import Observer\n",
    "from astroplan import FixedTarget\n",
    "from astroplan import (AltitudeConstraint, AirmassConstraint,\n",
    "                       AtNightConstraint)\n",
    "from astroplan import is_observable, is_always_observable, months_observable\n",
    "observer = Observer.at_site('palomar')"
   ]
  },
  {
   "cell_type": "code",
   "execution_count": 2,
   "metadata": {},
   "outputs": [],
   "source": [
    "locations = Table.from_pandas(pd.read_csv(\"options.csv\"))"
   ]
  },
  {
   "cell_type": "code",
   "execution_count": 6,
   "metadata": {},
   "outputs": [],
   "source": [
    "ascii.write(locations, \"options.ipac\", format= \"ipac\")"
   ]
  },
  {
   "cell_type": "code",
   "execution_count": 12,
   "metadata": {},
   "outputs": [],
   "source": [
    "wise_crossmatch= ascii.read(\"wise_allwise.allwise_p3as_psd_28028.tbl\", format = \"ipac\")"
   ]
  },
  {
   "cell_type": "code",
   "execution_count": 17,
   "metadata": {},
   "outputs": [
    {
     "data": {
      "text/html": [
       "<i>Row index=0</i>\n",
       "<table id=\"table1306764986640\">\n",
       "<thead><tr><th>cntr_01</th><th>dist_x</th><th>pang_x</th><th>gaiaedr3_01</th><th>ra_01</th><th>dec_01</th><th>designation</th><th>ra</th><th>dec</th><th>sigra</th><th>sigdec</th><th>sigradec</th><th>w1mpro</th><th>w1sigmpro</th><th>w1snr</th><th>w1rchi2</th><th>w2mpro</th><th>w2sigmpro</th><th>w2snr</th><th>w2rchi2</th><th>w3mpro</th><th>w3sigmpro</th><th>w3snr</th><th>w3rchi2</th><th>w4mpro</th><th>w4sigmpro</th><th>w4snr</th><th>w4rchi2</th><th>nb</th><th>na</th><th>w1sat</th><th>w2sat</th><th>w3sat</th><th>w4sat</th><th>pmra</th><th>sigpmra</th><th>pmdec</th><th>sigpmdec</th><th>cc_flags</th><th>ext_flg</th><th>var_flg</th><th>ph_qual</th><th>moon_lev</th><th>w1nm</th><th>w1m</th><th>w2nm</th><th>w2m</th><th>w3nm</th><th>w3m</th><th>w4nm</th><th>w4m</th></tr></thead>\n",
       "<thead><tr><th></th><th>arcsec</th><th>deg</th><th></th><th></th><th></th><th></th><th>deg</th><th>deg</th><th>arcsec</th><th>arcsec</th><th>arcsec</th><th>mag</th><th>mag</th><th></th><th></th><th>mag</th><th>mag</th><th></th><th></th><th>mag</th><th>mag</th><th></th><th></th><th>mag</th><th>mag</th><th></th><th></th><th></th><th></th><th></th><th></th><th></th><th></th><th>mas / yr</th><th>mas / yr</th><th>mas / yr</th><th>mas / yr</th><th></th><th></th><th></th><th></th><th></th><th></th><th></th><th></th><th></th><th></th><th></th><th></th><th></th></tr></thead>\n",
       "<thead><tr><th>int32</th><th>float64</th><th>float64</th><th>str19</th><th>float64</th><th>float64</th><th>str19</th><th>float64</th><th>float64</th><th>float64</th><th>float64</th><th>float64</th><th>float64</th><th>float64</th><th>float64</th><th>float64</th><th>float64</th><th>float64</th><th>float64</th><th>float64</th><th>float64</th><th>float64</th><th>float64</th><th>float64</th><th>float64</th><th>float64</th><th>float64</th><th>float64</th><th>int32</th><th>int32</th><th>float64</th><th>float64</th><th>float64</th><th>float64</th><th>int32</th><th>int32</th><th>int32</th><th>int32</th><th>str4</th><th>int32</th><th>str4</th><th>str4</th><th>str4</th><th>int32</th><th>int32</th><th>int32</th><th>int32</th><th>int32</th><th>int32</th><th>int32</th><th>int32</th></tr></thead>\n",
       "<tr><td>1</td><td>0.199751</td><td>33.442496</td><td>1375814952762454272</td><td>233.45602</td><td>37.99106</td><td>J153349.45+375927.9</td><td>233.4560588</td><td>37.9911063</td><td>0.0482</td><td>0.0479</td><td>-0.0095</td><td>13.763</td><td>0.024</td><td>45.6</td><td>1.466</td><td>13.785</td><td>0.03</td><td>36.1</td><td>0.9866</td><td>12.097</td><td>0.212</td><td>5.1</td><td>1.008</td><td>9.38</td><td>0.421</td><td>2.6</td><td>1.049</td><td>1</td><td>0</td><td>0.0</td><td>0.0</td><td>0.0</td><td>0.0</td><td>25</td><td>48</td><td>12</td><td>51</td><td>0000</td><td>0</td><td>97nn</td><td>AABC</td><td>0011</td><td>63</td><td>63</td><td>63</td><td>63</td><td>2</td><td>33</td><td>0</td><td>33</td></tr>\n",
       "</table>"
      ],
      "text/plain": [
       "<Row index=0>\n",
       "cntr_01  dist_x    pang_x      gaiaedr3_01       ra_01    dec_01      designation          ra        dec      sigra   sigdec sigradec  w1mpro w1sigmpro  w1snr  w1rchi2  w2mpro w2sigmpro  w2snr  w2rchi2  w3mpro w3sigmpro  w3snr  w3rchi2  w4mpro w4sigmpro  w4snr  w4rchi2   nb    na   w1sat   w2sat   w3sat   w4sat    pmra   sigpmra   pmdec   sigpmdec cc_flags ext_flg var_flg ph_qual moon_lev  w1nm  w1m   w2nm  w2m   w3nm  w3m   w4nm  w4m \n",
       "         arcsec     deg                                                                   deg        deg      arcsec  arcsec  arcsec    mag      mag                      mag      mag                      mag      mag                      mag      mag                                                                mas / yr mas / yr mas / yr mas / yr                                                                                          \n",
       " int32  float64   float64         str19         float64  float64         str19          float64    float64   float64 float64 float64  float64  float64  float64 float64 float64  float64  float64 float64 float64  float64  float64 float64 float64  float64  float64 float64 int32 int32 float64 float64 float64 float64  int32    int32    int32    int32     str4    int32    str4    str4    str4   int32 int32 int32 int32 int32 int32 int32 int32\n",
       "------- -------- --------- ------------------- --------- -------- ------------------- ----------- ---------- ------- ------- -------- ------- --------- ------- ------- ------- --------- ------- ------- ------- --------- ------- ------- ------- --------- ------- ------- ----- ----- ------- ------- ------- ------- -------- -------- -------- -------- -------- ------- ------- ------- -------- ----- ----- ----- ----- ----- ----- ----- -----\n",
       "      1 0.199751 33.442496 1375814952762454272 233.45602 37.99106 J153349.45+375927.9 233.4560588 37.9911063  0.0482  0.0479  -0.0095  13.763     0.024    45.6   1.466  13.785      0.03    36.1  0.9866  12.097     0.212     5.1   1.008    9.38     0.421     2.6   1.049     1     0     0.0     0.0     0.0     0.0       25       48       12       51     0000       0    97nn    AABC     0011    63    63    63    63     2    33     0    33"
      ]
     },
     "execution_count": 17,
     "metadata": {},
     "output_type": "execute_result"
    }
   ],
   "source": [
    "wise_crossmatch[0]"
   ]
  },
  {
   "cell_type": "code",
   "execution_count": 20,
   "metadata": {},
   "outputs": [],
   "source": [
    "wise_crossmatch_nonan = wise_crossmatch[np.where(wise_crossmatch[\"dist_x\"] > 0)]"
   ]
  },
  {
   "cell_type": "code",
   "execution_count": 24,
   "metadata": {},
   "outputs": [],
   "source": [
    "wise_crossmatch_nonan[\"w1-w2\"] = wise_crossmatch_nonan[\"w1mpro\"] - wise_crossmatch_nonan[\"w2mpro\"]"
   ]
  },
  {
   "cell_type": "code",
   "execution_count": 25,
   "metadata": {},
   "outputs": [],
   "source": [
    "wise_crossmatch_nonan[\"w3-w4\"] = wise_crossmatch_nonan[\"w3mpro\"] - wise_crossmatch_nonan[\"w4mpro\"]"
   ]
  },
  {
   "cell_type": "code",
   "execution_count": 29,
   "metadata": {},
   "outputs": [],
   "source": [
    "objects_of_interest = wise_crossmatch_nonan[np.where(wise_crossmatch_nonan[\"w1-w2\"] > 0)]"
   ]
  },
  {
   "cell_type": "code",
   "execution_count": 42,
   "metadata": {},
   "outputs": [],
   "source": [
    "objects_of_interest.to_pandas().to_csv(\"objects_of_interest.csv\", index = False)"
   ]
  },
  {
   "cell_type": "code",
   "execution_count": 31,
   "metadata": {},
   "outputs": [],
   "source": [
    "c = SkyCoord(ra = objects_of_interest[\"ra\"], dec = objects_of_interest[\"dec\"], frame=\"icrs\", unit=\"deg\")"
   ]
  },
  {
   "cell_type": "code",
   "execution_count": 32,
   "metadata": {},
   "outputs": [],
   "source": [
    "utcoffset = -7*u.hour\n",
    "time = Time('2023-05-06 23:30:00') - utcoffset\n",
    "time_range = Time(['2023-05-06 19:00:00', '2023-05-07 07:00:00']) - utcoffset\n",
    "delta_t = time_range[1] - time_range[0]\n",
    "observe_time = time_range[0] + delta_t*np.linspace(0, 1, 75)"
   ]
  },
  {
   "cell_type": "code",
   "execution_count": 34,
   "metadata": {},
   "outputs": [],
   "source": [
    "objects = []\n",
    "for i, j in zip(objects_of_interest[\"gaiaedr3_01\"], c):\n",
    "    objects.append(FixedTarget(name = i, coord = j))\n",
    "objects_np = np.asarray(objects)"
   ]
  },
  {
   "cell_type": "code",
   "execution_count": 38,
   "metadata": {},
   "outputs": [
    {
     "data": {
      "text/plain": [
       "'4102198997623267456'"
      ]
     },
     "execution_count": 38,
     "metadata": {},
     "output_type": "execute_result"
    }
   ],
   "source": [
    "objects_np[0].name"
   ]
  },
  {
   "cell_type": "code",
   "execution_count": 41,
   "metadata": {},
   "outputs": [
    {
     "name": "stderr",
     "output_type": "stream",
     "text": [
      "WARNING: TimeDeltaMissingUnitWarning: Numerical value without unit or explicit format passed to TimeDelta, assuming days [astropy.time.core]\n",
      "c:\\Users\\20xha\\anaconda3\\envs\\ay-ge_107\\lib\\site-packages\\astroplan\\plots\\time_dependent.py:194: UserWarning: linestyle is redundantly defined by the 'linestyle' keyword argument and the fmt string \"-\" (-> linestyle='-'). The keyword argument will take precedence.\n",
      "  ax.plot_date(timetoplot.plot_date, masked_airmass, label=target_name, **style_kwargs)\n",
      "WARNING: TimeDeltaMissingUnitWarning: Numerical value without unit or explicit format passed to TimeDelta, assuming days [astropy.time.core]\n",
      "c:\\Users\\20xha\\anaconda3\\envs\\ay-ge_107\\lib\\site-packages\\astroplan\\plots\\time_dependent.py:194: UserWarning: linestyle is redundantly defined by the 'linestyle' keyword argument and the fmt string \"-\" (-> linestyle='-'). The keyword argument will take precedence.\n",
      "  ax.plot_date(timetoplot.plot_date, masked_airmass, label=target_name, **style_kwargs)\n",
      "WARNING: TimeDeltaMissingUnitWarning: Numerical value without unit or explicit format passed to TimeDelta, assuming days [astropy.time.core]\n",
      "c:\\Users\\20xha\\anaconda3\\envs\\ay-ge_107\\lib\\site-packages\\astroplan\\plots\\time_dependent.py:194: UserWarning: linestyle is redundantly defined by the 'linestyle' keyword argument and the fmt string \"-\" (-> linestyle='-'). The keyword argument will take precedence.\n",
      "  ax.plot_date(timetoplot.plot_date, masked_airmass, label=target_name, **style_kwargs)\n",
      "WARNING: TimeDeltaMissingUnitWarning: Numerical value without unit or explicit format passed to TimeDelta, assuming days [astropy.time.core]\n",
      "c:\\Users\\20xha\\anaconda3\\envs\\ay-ge_107\\lib\\site-packages\\astroplan\\plots\\time_dependent.py:194: UserWarning: linestyle is redundantly defined by the 'linestyle' keyword argument and the fmt string \"-\" (-> linestyle='-'). The keyword argument will take precedence.\n",
      "  ax.plot_date(timetoplot.plot_date, masked_airmass, label=target_name, **style_kwargs)\n",
      "WARNING: TimeDeltaMissingUnitWarning: Numerical value without unit or explicit format passed to TimeDelta, assuming days [astropy.time.core]\n",
      "c:\\Users\\20xha\\anaconda3\\envs\\ay-ge_107\\lib\\site-packages\\astroplan\\plots\\time_dependent.py:194: UserWarning: linestyle is redundantly defined by the 'linestyle' keyword argument and the fmt string \"-\" (-> linestyle='-'). The keyword argument will take precedence.\n",
      "  ax.plot_date(timetoplot.plot_date, masked_airmass, label=target_name, **style_kwargs)\n",
      "WARNING: TimeDeltaMissingUnitWarning: Numerical value without unit or explicit format passed to TimeDelta, assuming days [astropy.time.core]\n",
      "c:\\Users\\20xha\\anaconda3\\envs\\ay-ge_107\\lib\\site-packages\\astroplan\\plots\\time_dependent.py:194: UserWarning: linestyle is redundantly defined by the 'linestyle' keyword argument and the fmt string \"-\" (-> linestyle='-'). The keyword argument will take precedence.\n",
      "  ax.plot_date(timetoplot.plot_date, masked_airmass, label=target_name, **style_kwargs)\n"
     ]
    }
   ],
   "source": [
    "for i in objects_np:\n",
    "    plot_airmass(i, observer, observe_time, brightness_shading=True, altitude_yaxis=True)\n",
    "    plt.savefig(\"airmass_diagrams/\" + str(i.name) + \".png\", dpi = 600)\n",
    "    plt.clf()\n",
    "    plt.close()"
   ]
  },
  {
   "cell_type": "code",
   "execution_count": null,
   "metadata": {},
   "outputs": [],
   "source": []
  }
 ],
 "metadata": {
  "kernelspec": {
   "display_name": "ay-ge_107",
   "language": "python",
   "name": "python3"
  },
  "language_info": {
   "codemirror_mode": {
    "name": "ipython",
    "version": 3
   },
   "file_extension": ".py",
   "mimetype": "text/x-python",
   "name": "python",
   "nbconvert_exporter": "python",
   "pygments_lexer": "ipython3",
   "version": "3.10.9"
  },
  "orig_nbformat": 4
 },
 "nbformat": 4,
 "nbformat_minor": 2
}
